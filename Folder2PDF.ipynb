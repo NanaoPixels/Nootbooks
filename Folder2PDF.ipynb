{
  "nbformat": 4,
  "nbformat_minor": 0,
  "metadata": {
    "colab": {
      "provenance": []
    },
    "kernelspec": {
      "name": "python3",
      "display_name": "Python 3"
    },
    "language_info": {
      "name": "python"
    }
  },
  "cells": [
    {
      "cell_type": "code",
      "execution_count": null,
      "metadata": {
        "colab": {
          "base_uri": "https://localhost:8080/"
        },
        "id": "AB06_ci-k4Nx",
        "outputId": "505e04a2-ceb4-4d9b-914b-962678bc6da0"
      },
      "outputs": [
        {
          "output_type": "stream",
          "name": "stdout",
          "text": [
            "155 arquivos JPG convertidos para pdf/volume15.pdf\n"
          ]
        }
      ],
      "source": [
        "from PIL import Image\n",
        "import os\n",
        "\n",
        "volume = \"volume15\"\n",
        "\n",
        "def convert_jpg_to_pdf(jpg_folder_path, pdf_path):\n",
        "    # lista todos os arquivos jpg no diretório\n",
        "    jpg_files = [os.path.join(jpg_folder_path, f) for f in os.listdir(jpg_folder_path) if f.endswith('.jpg')]\n",
        "\n",
        "    # classifica os arquivos por nome de arquivo\n",
        "    jpg_files.sort()\n",
        "\n",
        "    # abre a primeira imagem\n",
        "    img = Image.open(jpg_files[0])\n",
        "\n",
        "    # converte a imagem para PDF\n",
        "    img.save(pdf_path, \"PDF\" ,resolution=100.0, save_all=True, append_images=[Image.open(i) for i in jpg_files[1:]])\n",
        "\n",
        "    print(f'{len(jpg_files)} arquivos JPG convertidos para {pdf_path}')\n",
        "\n",
        "# caminho da pasta com os arquivos JPG\n",
        "jpg_folder_path = volume\n",
        "\n",
        "# caminho para o arquivo PDF de saída\n",
        "pdf_path = \"pdf/\"+volume+\".pdf\"\n",
        "\n",
        "# chama a função para converter os arquivos\n",
        "convert_jpg_to_pdf(jpg_folder_path, pdf_path)"
      ]
    },
    {
      "cell_type": "markdown",
      "source": [
        "# Nova seção"
      ],
      "metadata": {
        "id": "Di8gONY4cfTo"
      }
    },
    {
      "cell_type": "markdown",
      "source": [
        "# Nova seção"
      ],
      "metadata": {
        "id": "b-T_DhBzcgRA"
      }
    }
  ]
}